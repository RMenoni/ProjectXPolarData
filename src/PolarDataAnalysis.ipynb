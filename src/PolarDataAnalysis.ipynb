{
 "cells": [
  {
   "cell_type": "markdown",
   "metadata": {},
   "source": [
    "### Canadian Ice Islands Drift from Polar Data Catalogue\n",
    "Downloaded on September 4th from https://www.polardata.ca/pdcsearch/PDCSearch.jsp?doi_id=12678\n",
    "\n",
    "Dataset includes info on Ice Islands formed after 3 massive calving (breaking off) events from the Petermann Glacier in 2008, 2010, and 2012."
   ]
  },
  {
   "cell_type": "markdown",
   "metadata": {},
   "source": [
    "Dataset comes in two parts:\n",
    "- shp and shx files which contain the geometry field, which is a list of vertices that make up a polygon that represents the island (requires geopandas to be read and worked on, but can then be merged into a normal dataframe with the other fields)\n",
    "- csv with all other fields"
   ]
  },
  {
   "cell_type": "code",
   "execution_count": 1,
   "metadata": {},
   "outputs": [],
   "source": [
    "import pandas as pd\n",
    "import seaborn as sns\n",
    "import matplotlib.pyplot as plt\n",
    "import geopandas as gpd\n",
    "import gdal\n",
    "import shapely"
   ]
  },
  {
   "cell_type": "code",
   "execution_count": 6,
   "metadata": {},
   "outputs": [
    {
     "data": {
      "text/html": [
       "<div>\n",
       "<style scoped>\n",
       "    .dataframe tbody tr th:only-of-type {\n",
       "        vertical-align: middle;\n",
       "    }\n",
       "\n",
       "    .dataframe tbody tr th {\n",
       "        vertical-align: top;\n",
       "    }\n",
       "\n",
       "    .dataframe thead th {\n",
       "        text-align: right;\n",
       "    }\n",
       "</style>\n",
       "<table border=\"1\" class=\"dataframe\">\n",
       "  <thead>\n",
       "    <tr style=\"text-align: right;\">\n",
       "      <th></th>\n",
       "      <th>Unnamed: 0</th>\n",
       "      <th>inst</th>\n",
       "      <th>lineage</th>\n",
       "      <th>calvingyr</th>\n",
       "      <th>calvingloc</th>\n",
       "      <th>area</th>\n",
       "      <th>perimeter</th>\n",
       "      <th>length</th>\n",
       "      <th>lon</th>\n",
       "      <th>lat</th>\n",
       "      <th>scenedate</th>\n",
       "      <th>imgref</th>\n",
       "      <th>mothercert</th>\n",
       "      <th>shpcert</th>\n",
       "      <th>georef</th>\n",
       "      <th>ddinfo</th>\n",
       "      <th>sensor</th>\n",
       "      <th>beam_mode</th>\n",
       "      <th>pol</th>\n",
       "      <th>geometry</th>\n",
       "    </tr>\n",
       "  </thead>\n",
       "  <tbody>\n",
       "    <tr>\n",
       "      <th>0</th>\n",
       "      <td>1</td>\n",
       "      <td>20080713_235233_es_0_JWC</td>\n",
       "      <td>20080710_234704_es_0_P08</td>\n",
       "      <td>2008</td>\n",
       "      <td>PG</td>\n",
       "      <td>30.0189</td>\n",
       "      <td>32.1042</td>\n",
       "      <td>11202.000</td>\n",
       "      <td>-61.961521</td>\n",
       "      <td>81.088633</td>\n",
       "      <td>2008-07-13 23:52:33</td>\n",
       "      <td>20080713_235233_es_wsm___hh_a_lcc.tif</td>\n",
       "      <td>1</td>\n",
       "      <td>1</td>\n",
       "      <td>0-100m</td>\n",
       "      <td>drifting</td>\n",
       "      <td>es</td>\n",
       "      <td>wsm</td>\n",
       "      <td>hh</td>\n",
       "      <td>POLYGON ((642583.831 4737010.036, 642584.251 4...</td>\n",
       "    </tr>\n",
       "    <tr>\n",
       "      <th>1</th>\n",
       "      <td>2</td>\n",
       "      <td>20080718_161758_es_0_PUX</td>\n",
       "      <td>20080717_232648_es_0_AXI</td>\n",
       "      <td>2008</td>\n",
       "      <td>PG</td>\n",
       "      <td>5.0768</td>\n",
       "      <td>11.7517</td>\n",
       "      <td>4073.650</td>\n",
       "      <td>-61.748242</td>\n",
       "      <td>81.208505</td>\n",
       "      <td>2008-07-18 16:17:58</td>\n",
       "      <td>20080718_161758_es_wsm___hh_a_lcc.tif</td>\n",
       "      <td>1</td>\n",
       "      <td>1</td>\n",
       "      <td>0-100m</td>\n",
       "      <td>drifting</td>\n",
       "      <td>es</td>\n",
       "      <td>wsm</td>\n",
       "      <td>hh</td>\n",
       "      <td>POLYGON ((635685.431 4748873.084, 635609.481 4...</td>\n",
       "    </tr>\n",
       "    <tr>\n",
       "      <th>2</th>\n",
       "      <td>3</td>\n",
       "      <td>20080716_153449_es_3_POU</td>\n",
       "      <td>20080715_160601_es_2_KOE</td>\n",
       "      <td>2008</td>\n",
       "      <td>PG</td>\n",
       "      <td>0.2334</td>\n",
       "      <td>1.8947</td>\n",
       "      <td>663.533</td>\n",
       "      <td>-61.936536</td>\n",
       "      <td>81.094799</td>\n",
       "      <td>2008-07-16 15:34:49</td>\n",
       "      <td>20080716_153449_es_wsm___hh_a_lcc.tif</td>\n",
       "      <td>2</td>\n",
       "      <td>2</td>\n",
       "      <td>0-100m</td>\n",
       "      <td>drifting</td>\n",
       "      <td>es</td>\n",
       "      <td>wsm</td>\n",
       "      <td>hh</td>\n",
       "      <td>POLYGON ((639153.035 4737837.194, 639121.726 4...</td>\n",
       "    </tr>\n",
       "    <tr>\n",
       "      <th>3</th>\n",
       "      <td>4</td>\n",
       "      <td>20080714_163628_es_0_XKK</td>\n",
       "      <td>20080713_235233_es_0_JWC</td>\n",
       "      <td>2008</td>\n",
       "      <td>PG</td>\n",
       "      <td>30.0189</td>\n",
       "      <td>32.1042</td>\n",
       "      <td>11202.000</td>\n",
       "      <td>-62.001971</td>\n",
       "      <td>81.099975</td>\n",
       "      <td>2008-07-14 16:36:28</td>\n",
       "      <td>20080714_163628_es_wsm___hh_a_lcc.tif</td>\n",
       "      <td>1</td>\n",
       "      <td>1</td>\n",
       "      <td>0-100m</td>\n",
       "      <td>drifting</td>\n",
       "      <td>es</td>\n",
       "      <td>wsm</td>\n",
       "      <td>hh</td>\n",
       "      <td>POLYGON ((641252.930 4737727.132, 641254.149 4...</td>\n",
       "    </tr>\n",
       "    <tr>\n",
       "      <th>4</th>\n",
       "      <td>5</td>\n",
       "      <td>20080716_235405_es_0_UJN</td>\n",
       "      <td>20080716_153449_es_0_SMD</td>\n",
       "      <td>2008</td>\n",
       "      <td>PG</td>\n",
       "      <td>5.3063</td>\n",
       "      <td>11.9201</td>\n",
       "      <td>4132.140</td>\n",
       "      <td>-61.716621</td>\n",
       "      <td>81.204665</td>\n",
       "      <td>2008-07-16 23:54:05</td>\n",
       "      <td>20080716_235405_es_wsm___hh_a_lcc.tif</td>\n",
       "      <td>1</td>\n",
       "      <td>1</td>\n",
       "      <td>0-100m</td>\n",
       "      <td>drifting</td>\n",
       "      <td>es</td>\n",
       "      <td>wsm</td>\n",
       "      <td>hh</td>\n",
       "      <td>POLYGON ((637178.217 4750031.227, 637124.459 4...</td>\n",
       "    </tr>\n",
       "    <tr>\n",
       "      <th>...</th>\n",
       "      <td>...</td>\n",
       "      <td>...</td>\n",
       "      <td>...</td>\n",
       "      <td>...</td>\n",
       "      <td>...</td>\n",
       "      <td>...</td>\n",
       "      <td>...</td>\n",
       "      <td>...</td>\n",
       "      <td>...</td>\n",
       "      <td>...</td>\n",
       "      <td>...</td>\n",
       "      <td>...</td>\n",
       "      <td>...</td>\n",
       "      <td>...</td>\n",
       "      <td>...</td>\n",
       "      <td>...</td>\n",
       "      <td>...</td>\n",
       "      <td>...</td>\n",
       "      <td>...</td>\n",
       "      <td>...</td>\n",
       "    </tr>\n",
       "    <tr>\n",
       "      <th>25359</th>\n",
       "      <td>25360</td>\n",
       "      <td>20131230_105824_r2_1_LZV</td>\n",
       "      <td>20131229_112720_r2_4_BTE</td>\n",
       "      <td>NA</td>\n",
       "      <td>RG</td>\n",
       "      <td>4.9236</td>\n",
       "      <td>8.7757</td>\n",
       "      <td>3093.020</td>\n",
       "      <td>-67.536853</td>\n",
       "      <td>68.631616</td>\n",
       "      <td>2013-12-30 10:58:24</td>\n",
       "      <td>20131230_105824_r2_scwa__hx_a_lcc.tif</td>\n",
       "      <td>1</td>\n",
       "      <td>2</td>\n",
       "      <td>0-100m</td>\n",
       "      <td>trapped</td>\n",
       "      <td>r2</td>\n",
       "      <td>scwa</td>\n",
       "      <td>hx</td>\n",
       "      <td>POLYGON ((1228172.494 3478754.513, 1228177.793...</td>\n",
       "    </tr>\n",
       "    <tr>\n",
       "      <th>25360</th>\n",
       "      <td>25361</td>\n",
       "      <td>20131230_105824_r2_0_VNJ</td>\n",
       "      <td>20131229_112720_r2_3_PTW</td>\n",
       "      <td>NA</td>\n",
       "      <td>RG</td>\n",
       "      <td>7.3202</td>\n",
       "      <td>11.4445</td>\n",
       "      <td>4575.050</td>\n",
       "      <td>-69.032463</td>\n",
       "      <td>71.439792</td>\n",
       "      <td>2013-12-30 10:58:24</td>\n",
       "      <td>20131230_105824_r2_scwa__hx_a_lcc.tif</td>\n",
       "      <td>1</td>\n",
       "      <td>2</td>\n",
       "      <td>0-100m</td>\n",
       "      <td>drifting</td>\n",
       "      <td>r2</td>\n",
       "      <td>scwa</td>\n",
       "      <td>hx</td>\n",
       "      <td>POLYGON ((1036262.965 3721983.236, 1036301.407...</td>\n",
       "    </tr>\n",
       "    <tr>\n",
       "      <th>25361</th>\n",
       "      <td>25362</td>\n",
       "      <td>20131231_202545_r2_1_KQF</td>\n",
       "      <td>20131229_212329_r2_10_DRL</td>\n",
       "      <td>NA</td>\n",
       "      <td>RG</td>\n",
       "      <td>1.8252</td>\n",
       "      <td>5.7343</td>\n",
       "      <td>2233.030</td>\n",
       "      <td>-71.507132</td>\n",
       "      <td>79.430857</td>\n",
       "      <td>2013-12-31 20:25:45</td>\n",
       "      <td>20131231_202545_r2_scwa__hx_a_lcc.tif</td>\n",
       "      <td>1</td>\n",
       "      <td>2</td>\n",
       "      <td>&gt;400m</td>\n",
       "      <td>drifting</td>\n",
       "      <td>r2</td>\n",
       "      <td>scwa</td>\n",
       "      <td>hx</td>\n",
       "      <td>POLYGON ((574285.650 4482190.007, 574301.723 4...</td>\n",
       "    </tr>\n",
       "    <tr>\n",
       "      <th>25362</th>\n",
       "      <td>25363</td>\n",
       "      <td>20131231_220506_r2_1_YGC</td>\n",
       "      <td>20131231_202545_r2_1_KQF</td>\n",
       "      <td>NA</td>\n",
       "      <td>RG</td>\n",
       "      <td>1.5283</td>\n",
       "      <td>5.4587</td>\n",
       "      <td>2176.170</td>\n",
       "      <td>-71.590018</td>\n",
       "      <td>79.412478</td>\n",
       "      <td>2013-12-31 22:05:06</td>\n",
       "      <td>20131231_220506_r2_scwa__hx_a_lcc.tif</td>\n",
       "      <td>1</td>\n",
       "      <td>2</td>\n",
       "      <td>200-400m</td>\n",
       "      <td>drifting</td>\n",
       "      <td>r2</td>\n",
       "      <td>scwa</td>\n",
       "      <td>hx</td>\n",
       "      <td>POLYGON ((573416.931 4479585.572, 573453.165 4...</td>\n",
       "    </tr>\n",
       "    <tr>\n",
       "      <th>25363</th>\n",
       "      <td>25364</td>\n",
       "      <td>20131230_105824_r2_3_RHK</td>\n",
       "      <td>20131229_112720_r2_6_JHG</td>\n",
       "      <td>NA</td>\n",
       "      <td>RG</td>\n",
       "      <td>2.5000</td>\n",
       "      <td>7.1279</td>\n",
       "      <td>2621.740</td>\n",
       "      <td>-66.961397</td>\n",
       "      <td>68.468395</td>\n",
       "      <td>2013-12-30 10:58:24</td>\n",
       "      <td>20131230_105824_r2_scwa__hx_a_lcc.tif</td>\n",
       "      <td>1</td>\n",
       "      <td>2</td>\n",
       "      <td>0-100m</td>\n",
       "      <td>grounded?</td>\n",
       "      <td>r2</td>\n",
       "      <td>scwa</td>\n",
       "      <td>hx</td>\n",
       "      <td>POLYGON ((1258225.177 3474789.652, 1258102.626...</td>\n",
       "    </tr>\n",
       "  </tbody>\n",
       "</table>\n",
       "<p>25364 rows × 20 columns</p>\n",
       "</div>"
      ],
      "text/plain": [
       "       Unnamed: 0                      inst                    lineage  \\\n",
       "0               1  20080713_235233_es_0_JWC   20080710_234704_es_0_P08   \n",
       "1               2  20080718_161758_es_0_PUX   20080717_232648_es_0_AXI   \n",
       "2               3  20080716_153449_es_3_POU   20080715_160601_es_2_KOE   \n",
       "3               4  20080714_163628_es_0_XKK   20080713_235233_es_0_JWC   \n",
       "4               5  20080716_235405_es_0_UJN   20080716_153449_es_0_SMD   \n",
       "...           ...                       ...                        ...   \n",
       "25359       25360  20131230_105824_r2_1_LZV   20131229_112720_r2_4_BTE   \n",
       "25360       25361  20131230_105824_r2_0_VNJ   20131229_112720_r2_3_PTW   \n",
       "25361       25362  20131231_202545_r2_1_KQF  20131229_212329_r2_10_DRL   \n",
       "25362       25363  20131231_220506_r2_1_YGC   20131231_202545_r2_1_KQF   \n",
       "25363       25364  20131230_105824_r2_3_RHK   20131229_112720_r2_6_JHG   \n",
       "\n",
       "      calvingyr calvingloc     area  perimeter     length        lon  \\\n",
       "0          2008         PG  30.0189    32.1042  11202.000 -61.961521   \n",
       "1          2008         PG   5.0768    11.7517   4073.650 -61.748242   \n",
       "2          2008         PG   0.2334     1.8947    663.533 -61.936536   \n",
       "3          2008         PG  30.0189    32.1042  11202.000 -62.001971   \n",
       "4          2008         PG   5.3063    11.9201   4132.140 -61.716621   \n",
       "...         ...        ...      ...        ...        ...        ...   \n",
       "25359      NA           RG   4.9236     8.7757   3093.020 -67.536853   \n",
       "25360      NA           RG   7.3202    11.4445   4575.050 -69.032463   \n",
       "25361      NA           RG   1.8252     5.7343   2233.030 -71.507132   \n",
       "25362      NA           RG   1.5283     5.4587   2176.170 -71.590018   \n",
       "25363      NA           RG   2.5000     7.1279   2621.740 -66.961397   \n",
       "\n",
       "             lat            scenedate                                 imgref  \\\n",
       "0      81.088633  2008-07-13 23:52:33  20080713_235233_es_wsm___hh_a_lcc.tif   \n",
       "1      81.208505  2008-07-18 16:17:58  20080718_161758_es_wsm___hh_a_lcc.tif   \n",
       "2      81.094799  2008-07-16 15:34:49  20080716_153449_es_wsm___hh_a_lcc.tif   \n",
       "3      81.099975  2008-07-14 16:36:28  20080714_163628_es_wsm___hh_a_lcc.tif   \n",
       "4      81.204665  2008-07-16 23:54:05  20080716_235405_es_wsm___hh_a_lcc.tif   \n",
       "...          ...                  ...                                    ...   \n",
       "25359  68.631616  2013-12-30 10:58:24  20131230_105824_r2_scwa__hx_a_lcc.tif   \n",
       "25360  71.439792  2013-12-30 10:58:24  20131230_105824_r2_scwa__hx_a_lcc.tif   \n",
       "25361  79.430857  2013-12-31 20:25:45  20131231_202545_r2_scwa__hx_a_lcc.tif   \n",
       "25362  79.412478  2013-12-31 22:05:06  20131231_220506_r2_scwa__hx_a_lcc.tif   \n",
       "25363  68.468395  2013-12-30 10:58:24  20131230_105824_r2_scwa__hx_a_lcc.tif   \n",
       "\n",
       "       mothercert  shpcert    georef     ddinfo sensor beam_mode pol  \\\n",
       "0               1        1    0-100m   drifting     es       wsm  hh   \n",
       "1               1        1    0-100m   drifting     es       wsm  hh   \n",
       "2               2        2    0-100m   drifting     es       wsm  hh   \n",
       "3               1        1    0-100m   drifting     es       wsm  hh   \n",
       "4               1        1    0-100m   drifting     es       wsm  hh   \n",
       "...           ...      ...       ...        ...    ...       ...  ..   \n",
       "25359           1        2    0-100m    trapped     r2      scwa  hx   \n",
       "25360           1        2    0-100m   drifting     r2      scwa  hx   \n",
       "25361           1        2     >400m   drifting     r2      scwa  hx   \n",
       "25362           1        2  200-400m   drifting     r2      scwa  hx   \n",
       "25363           1        2    0-100m  grounded?     r2      scwa  hx   \n",
       "\n",
       "                                                geometry  \n",
       "0      POLYGON ((642583.831 4737010.036, 642584.251 4...  \n",
       "1      POLYGON ((635685.431 4748873.084, 635609.481 4...  \n",
       "2      POLYGON ((639153.035 4737837.194, 639121.726 4...  \n",
       "3      POLYGON ((641252.930 4737727.132, 641254.149 4...  \n",
       "4      POLYGON ((637178.217 4750031.227, 637124.459 4...  \n",
       "...                                                  ...  \n",
       "25359  POLYGON ((1228172.494 3478754.513, 1228177.793...  \n",
       "25360  POLYGON ((1036262.965 3721983.236, 1036301.407...  \n",
       "25361  POLYGON ((574285.650 4482190.007, 574301.723 4...  \n",
       "25362  POLYGON ((573416.931 4479585.572, 573453.165 4...  \n",
       "25363  POLYGON ((1258225.177 3474789.652, 1258102.626...  \n",
       "\n",
       "[25364 rows x 20 columns]"
      ]
     },
     "execution_count": 6,
     "metadata": {},
     "output_type": "execute_result"
    }
   ],
   "source": [
    "df = pd.read_csv('../data/CCIN12678_20181113_CI2D3_01.csv')\n",
    "gdf = gpd.read_file('../data/CCIN12678_20181113_CI2D3_01.shp')\n",
    "gdf = gpd.GeoDataFrame(pd.concat([df, gdf], axis=1))\n",
    "gdf"
   ]
  },
  {
   "cell_type": "code",
   "execution_count": 7,
   "metadata": {},
   "outputs": [
    {
     "data": {
      "text/plain": [
       "<AxesSubplot:>"
      ]
     },
     "execution_count": 7,
     "metadata": {},
     "output_type": "execute_result"
    },
    {
     "data": {
      "image/png": "[encoded data removed]",
      "text/plain": [
       "<Figure size 432x288 with 1 Axes>"
      ]
     },
     "metadata": {
      "needs_background": "light"
     },
     "output_type": "display_data"
    }
   ],
   "source": [
    "gdf.plot()"
   ]
  },
  {
   "cell_type": "code",
   "execution_count": 11,
   "metadata": {},
   "outputs": [],
   "source": [
    "import matplotlib.pyplot as plt\n",
    "gdf.plot()\n",
    "plt.savefig('polygon_plot.png')\n",
    "plt.show()\n",
    "\n",
    "full_gdf = gpd.GeoDataFrame(pd.concat([df, gdf], axis=1))"
   ]
  },
  {
   "cell_type": "code",
   "execution_count": 4,
   "metadata": {},
   "outputs": [
    {
     "name": "stdout",
     "output_type": "stream",
     "text": [
      "<class 'pandas.core.frame.DataFrame'>\n",
      "RangeIndex: 25364 entries, 0 to 25363\n",
      "Data columns (total 19 columns):\n",
      " #   Column      Non-Null Count  Dtype  \n",
      "---  ------      --------------  -----  \n",
      " 0   Unnamed: 0  25364 non-null  int64  \n",
      " 1   inst        25364 non-null  object \n",
      " 2   lineage     25364 non-null  object \n",
      " 3   calvingyr   25364 non-null  object \n",
      " 4   calvingloc  25358 non-null  object \n",
      " 5   area        25364 non-null  float64\n",
      " 6   perimeter   25364 non-null  float64\n",
      " 7   length      25364 non-null  float64\n",
      " 8   lon         25364 non-null  float64\n",
      " 9   lat         25364 non-null  float64\n",
      " 10  scenedate   25364 non-null  object \n",
      " 11  imgref      25364 non-null  object \n",
      " 12  mothercert  25364 non-null  int64  \n",
      " 13  shpcert     25364 non-null  int64  \n",
      " 14  georef      25151 non-null  object \n",
      " 15  ddinfo      25364 non-null  object \n",
      " 16  sensor      25364 non-null  object \n",
      " 17  beam_mode   25364 non-null  object \n",
      " 18  pol         25364 non-null  object \n",
      "dtypes: float64(5), int64(3), object(11)\n",
      "memory usage: 3.7+ MB\n"
     ]
    }
   ],
   "source": [
    "df.info()"
   ]
  },
  {
   "cell_type": "markdown",
   "metadata": {},
   "source": [
    "### Column Details\n",
    "- inst       object: Unique Identifier for an Ice Island\n",
    "- lineage    object: Identifier for its Mother/Parent Ice Island OR for previous observation of the same island. 25054 entries point to one of 310 entries, whose parents are not in the dataset.\n",
    "- calvingyr  object: Year of Calving (when an ice island breaks off from parent). Missing 7456 entries, labeled as 'NA  '\n",
    "- calvingloc object: Location of Calving. Missing 6 entries\n",
    "- area       float64: \n",
    "- perimeter  float64\n",
    "- length     float64\n",
    "- lon        float64\n",
    "- lat        float64\n",
    "- scenedate  object \n",
    "- imgref     object \n",
    "- mothercert int64: certainty of lineage. Majority (85%) is very certain\n",
    "- shpcert    int64: certainty of shape. Less certain (Very certain: 59%, fairly certain: 36%)\n",
    "- georef     object:\n",
    "- ddinfo     object \n",
    "- sensor     object \n",
    "- beam_mode  object \n",
    "- pol        object"
   ]
  },
  {
   "cell_type": "markdown",
   "metadata": {},
   "source": [
    "![title](../documents/polar_data_documentation1.png)\n",
    "![title](../documents/polar_data_documentation2.png)\n",
    "![title](../documents/polar_data_appendix2.png)"
   ]
  },
  {
   "cell_type": "code",
   "execution_count": 6,
   "metadata": {},
   "outputs": [
    {
     "name": "stdout",
     "output_type": "stream",
     "text": [
      "Number of rows: 25364\n",
      "Number of Unique instances of Unnamed: 0: 25364\n",
      "Number of Unique instances of inst: 25364\n",
      "Number of Unique instances of lineage: 24470\n",
      "Number of Unique instances of calvingyr: 6\n",
      "Number of Unique instances of calvingloc: 6\n",
      "Number of Unique instances of area: 2815\n",
      "Number of Unique instances of perimeter: 2946\n",
      "Number of Unique instances of length: 2546\n",
      "Number of Unique instances of lon: 23803\n",
      "Number of Unique instances of lat: 23803\n",
      "Number of Unique instances of scenedate: 4378\n",
      "Number of Unique instances of imgref: 4378\n",
      "Number of Unique instances of mothercert: 3\n",
      "Number of Unique instances of shpcert: 3\n",
      "Number of Unique instances of georef: 5\n",
      "Number of Unique instances of ddinfo: 5\n",
      "Number of Unique instances of sensor: 4\n",
      "Number of Unique instances of beam_mode: 39\n",
      "Number of Unique instances of pol: 6\n"
     ]
    }
   ],
   "source": [
    "print(f'Number of rows: {len(df)}')\n",
    "for col in list(df):\n",
    "    print(f'Number of Unique instances of {col}: {len(df[col].unique())}')"
   ]
  },
  {
   "cell_type": "code",
   "execution_count": 44,
   "metadata": {},
   "outputs": [
    {
     "name": "stdout",
     "output_type": "stream",
     "text": [
      "Unnamed: 0 column missing values: 0\n",
      "inst column missing values: 0\n",
      "lineage column missing values: 0\n",
      "calvingyr column missing values: 0\n",
      "calvingloc column missing values: 6\n",
      "area column missing values: 0\n",
      "perimeter column missing values: 0\n",
      "length column missing values: 0\n",
      "lon column missing values: 0\n",
      "lat column missing values: 0\n",
      "scenedate column missing values: 0\n",
      "imgref column missing values: 0\n",
      "mothercert column missing values: 0\n",
      "shpcert column missing values: 0\n",
      "georef column missing values: 213\n",
      "ddinfo column missing values: 0\n",
      "sensor column missing values: 0\n",
      "beam_mode column missing values: 0\n",
      "pol column missing values: 0\n",
      "\n",
      "\n"
     ]
    }
   ],
   "source": [
    "def display_missing(df):    \n",
    "    for col in df.columns.tolist():          \n",
    "        print('{} column missing values: {}'.format(col, df[col].isnull().sum()))\n",
    "    print('\\n')\n",
    "display_missing(df)"
   ]
  },
  {
   "cell_type": "markdown",
   "metadata": {},
   "source": [
    "#### lineage"
   ]
  },
  {
   "cell_type": "code",
   "execution_count": 21,
   "metadata": {},
   "outputs": [
    {
     "name": "stdout",
     "output_type": "stream",
     "text": [
      "25054 parents are in the dataset, 310 are not.\n"
     ]
    }
   ],
   "source": [
    "count_found, count_not_found = 0, 0\n",
    "inst_set = set(df['inst'].values)\n",
    "for parent in df['lineage']:\n",
    "    if parent in inst_set:\n",
    "        count_found += 1\n",
    "    else:\n",
    "        count_not_found += 1\n",
    "print(f'{count_found} parents are in the dataset, {count_not_found} are not.')"
   ]
  },
  {
   "cell_type": "code",
   "execution_count": 36,
   "metadata": {},
   "outputs": [
    {
     "name": "stdout",
     "output_type": "stream",
     "text": [
      "20120211_102504_r2_1_AAE -> 20120210_105416_r2_1_VVJ -> Parent not in Dataset\n",
      "20110705_215129_r1_0_KUK -> 20110628_215454_r1_0_MBF -> Parent not in Dataset\n",
      "20120318_094018_r2_0_CZW -> 20120317_213235_r2_0_EAA -> Parent not in Dataset\n",
      "20130204_105540_r2_3_WVI -> 20130122_103316_r2_4_SIE -> Parent not in Dataset\n",
      "20110925_215913_r1_0_JDA -> 20110924_214236_r2_0_ZCR -> Parent not in Dataset\n",
      "20121017_124120_r2_12_FGY -> 20121015_115929_r2_15_NCX -> Parent not in Dataset\n",
      "20110924_123523_r1_1_DDI -> 20110923_221224_r2_2_LHH -> Parent not in Dataset\n",
      "20130719_221257_r2_0_QRG -> 20130719_104419_r2_0_KPZ -> Parent not in Dataset\n",
      "20131228_115525_r2_0_IDH -> 20131227_122410_r2_5_OLP -> Parent not in Dataset\n",
      "20120811_115352_r2_29_HEV -> 20120810_122308_r2_30_ASI -> Parent not in Dataset\n",
      "20100813_233543_es_8_DQV -> 20100812_154328_es_5_TKT -> Parent not in Dataset\n",
      "20130505_220305_r2_2_EUQ -> 20130504_223320_r2_3_VRE -> Parent not in Dataset\n",
      "20130908_123038_r2_41_SMR -> 20130829_204210_r2_51_WZV -> Parent not in Dataset\n",
      "20131009_222555_r2_13_KII -> 20131009_122846_r2_13_YTQ -> Parent not in Dataset\n",
      "20110824_114911_r2_5_QDJ -> Parent not in Dataset\n",
      "20110427_211643_r2_2_JTT -> 20110425_104138_r2_2_BHC -> Parent not in Dataset\n",
      "20130719_221651_r2_0_ITD -> 20130719_122021_r2_4_NXD -> Parent not in Dataset\n",
      "20131024_115002_r2_2_CNW -> 20131023_121941_r2_5_EKL -> Parent not in Dataset\n",
      "20101231_212954_r2_25_OFT -> 20101225_111048_r2_17_RPZ -> Parent not in Dataset\n",
      "20101218_125508_r2_1_LTR -> Parent not in Dataset\n"
     ]
    }
   ],
   "source": [
    "import random\n",
    "inst_set = set(df['inst'].values)\n",
    "for idx in random.sample(list(df.index), 20):\n",
    "    curr_idx = idx\n",
    "    print(df['inst'][curr_idx], end='')\n",
    "    while True:\n",
    "        parent = df['lineage'][curr_idx]\n",
    "        if str(parent) == str(df['inst'][curr_idx]):\n",
    "            print(' -> Points to Self')\n",
    "            break\n",
    "        elif str(parent) not in inst_set:\n",
    "            print(' -> Parent not in Dataset')\n",
    "            break\n",
    "        else:\n",
    "            print(f' -> {parent}', end='')\n",
    "            curr_idx = df[df['inst'] == parent].index"
   ]
  },
  {
   "cell_type": "code",
   "execution_count": 39,
   "metadata": {},
   "outputs": [
    {
     "name": "stdout",
     "output_type": "stream",
     "text": [
      "Dict for lineages that end in NOT IN DATASET: defaultdict(<class 'int'>, {2: 310, 3: 25054})\n",
      "Dict for lineages that end in SELF REFERENCE: defaultdict(<class 'int'>, {})\n"
     ]
    }
   ],
   "source": [
    "from collections import defaultdict\n",
    "nid_freq_dict = defaultdict(int)\n",
    "pts_freq_dict = defaultdict(int)\n",
    "for idx in list(df.index):\n",
    "    lineage_length = 1\n",
    "    curr_idx = idx\n",
    "    while True:\n",
    "        parent = df['lineage'][curr_idx]\n",
    "        if str(parent) == str(df['inst'][curr_idx]):\n",
    "            pts_freq_dict[lineage_length] += 1\n",
    "            break\n",
    "        elif str(parent) not in inst_set:\n",
    "            lineage_length += 1\n",
    "            nid_freq_dict[lineage_length] += 1\n",
    "            break\n",
    "        else:\n",
    "            lineage_length += 1\n",
    "            curr_idx = df[df['inst'] == parent].index\n",
    "print(f'Dict for lineages that end in NOT IN DATASET: {nid_freq_dict}')\n",
    "print(f'Dict for lineages that end in SELF REFERENCE: {pts_freq_dict}')"
   ]
  },
  {
   "cell_type": "markdown",
   "metadata": {},
   "source": [
    "#### calvingyr and calvingloc"
   ]
  },
  {
   "cell_type": "code",
   "execution_count": 40,
   "metadata": {},
   "outputs": [
    {
     "name": "stdout",
     "output_type": "stream",
     "text": [
      "Unique calvingyr: ['2008' '2010' '2011' '2012' '2013' 'NA  ']\n",
      "Unique calvingloc: ['PG' 'SG' nan 'RG' 'NG' 'CG']\n"
     ]
    }
   ],
   "source": [
    "print(f'Unique calvingyr: {df.calvingyr.unique()}')\n",
    "print(f'Unique calvingloc: {df.calvingloc.unique()}')"
   ]
  },
  {
   "cell_type": "code",
   "execution_count": 42,
   "metadata": {},
   "outputs": [
    {
     "data": {
      "text/plain": [
       "7456"
      ]
     },
     "execution_count": 42,
     "metadata": {},
     "output_type": "execute_result"
    }
   ],
   "source": [
    "df.calvingyr[df.calvingyr == 'NA  '].count()"
   ]
  },
  {
   "cell_type": "code",
   "execution_count": 10,
   "metadata": {},
   "outputs": [
    {
     "data": {
      "text/plain": [
       "1    21130\n",
       "3     2455\n",
       "2     1779\n",
       "Name: mothercert, dtype: int64"
      ]
     },
     "execution_count": 10,
     "metadata": {},
     "output_type": "execute_result"
    }
   ],
   "source": [
    "df.mothercert.value_counts()"
   ]
  },
  {
   "cell_type": "code",
   "execution_count": 11,
   "metadata": {},
   "outputs": [
    {
     "data": {
      "text/plain": [
       "2    14868\n",
       "1     9222\n",
       "3     1274\n",
       "Name: shpcert, dtype: int64"
      ]
     },
     "execution_count": 11,
     "metadata": {},
     "output_type": "execute_result"
    }
   ],
   "source": [
    "df.shpcert.value_counts()"
   ]
  },
  {
   "cell_type": "code",
   "execution_count": 12,
   "metadata": {},
   "outputs": [
    {
     "data": {
      "text/plain": [
       ">400m       8863\n",
       "200-400m    7923\n",
       "0-100m      4222\n",
       "100-200m    4143\n",
       "Name: georef, dtype: int64"
      ]
     },
     "execution_count": 12,
     "metadata": {},
     "output_type": "execute_result"
    }
   ],
   "source": [
    "df.georef.value_counts()"
   ]
  },
  {
   "cell_type": "code",
   "execution_count": 13,
   "metadata": {},
   "outputs": [
    {
     "data": {
      "text/plain": [
       "drifting     13237\n",
       "grounded?     4243\n",
       "trapped       4210\n",
       "grounded      3534\n",
       "trapped?       140\n",
       "Name: ddinfo, dtype: int64"
      ]
     },
     "execution_count": 13,
     "metadata": {},
     "output_type": "execute_result"
    }
   ],
   "source": [
    "df.ddinfo.value_counts()"
   ]
  },
  {
   "cell_type": "code",
   "execution_count": null,
   "metadata": {},
   "outputs": [],
   "source": []
  }
 ],
 "metadata": {
  "kernelspec": {
   "display_name": "Python 3",
   "language": "python",
   "name": "python3"
  },
  "language_info": {
   "codemirror_mode": {
    "name": "ipython",
    "version": 3
   },
   "file_extension": ".py",
   "mimetype": "text/x-python",
   "name": "python",
   "nbconvert_exporter": "python",
   "pygments_lexer": "ipython3",
   "version": "3.8.2"
  }
 },
 "nbformat": 4,
 "nbformat_minor": 4
}
